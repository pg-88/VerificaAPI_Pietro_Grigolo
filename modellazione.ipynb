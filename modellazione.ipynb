{
 "cells": [
  {
   "cell_type": "code",
   "execution_count": 1,
   "metadata": {},
   "outputs": [],
   "source": [
    "import pandas as pd\n",
    "import numpy as np\n",
    "from sklearn.linear_model import LinearRegression\n",
    "from sklearn.model_selection import train_test_split\n",
    "from sklearn.metrics import r2_score, mean_absolute_error, mean_squared_error\n",
    "import matplotlib.pyplot as plt\n",
    "import joblib\n",
    "import mlem"
   ]
  },
  {
   "cell_type": "code",
   "execution_count": 2,
   "metadata": {},
   "outputs": [
    {
     "name": "stdout",
     "output_type": "stream",
     "text": [
      "<class 'pandas.core.frame.DataFrame'>\n",
      "RangeIndex: 50 entries, 0 to 49\n",
      "Data columns (total 4 columns):\n",
      " #   Column           Non-Null Count  Dtype  \n",
      "---  ------           --------------  -----  \n",
      " 0   R&D Spend        50 non-null     float64\n",
      " 1   Administration   50 non-null     float64\n",
      " 2   Marketing Spend  50 non-null     float64\n",
      " 3   Profit           50 non-null     float64\n",
      "dtypes: float64(4)\n",
      "memory usage: 1.7 KB\n"
     ]
    }
   ],
   "source": [
    "# Leggo il dataframe e verifico i dati\n",
    "csv_url = 'resources/Startup.csv'\n",
    "\n",
    "try:\n",
    "    df = pd.read_csv(csv_url)\n",
    "    df.info()\n",
    "except: \n",
    "    print('Qualcosa non ha funzionato ricontrolla')"
   ]
  },
  {
   "cell_type": "code",
   "execution_count": 3,
   "metadata": {},
   "outputs": [
    {
     "data": {
      "text/html": [
       "<div>\n",
       "<style scoped>\n",
       "    .dataframe tbody tr th:only-of-type {\n",
       "        vertical-align: middle;\n",
       "    }\n",
       "\n",
       "    .dataframe tbody tr th {\n",
       "        vertical-align: top;\n",
       "    }\n",
       "\n",
       "    .dataframe thead th {\n",
       "        text-align: right;\n",
       "    }\n",
       "</style>\n",
       "<table border=\"1\" class=\"dataframe\">\n",
       "  <thead>\n",
       "    <tr style=\"text-align: right;\">\n",
       "      <th></th>\n",
       "      <th>R&amp;D Spend</th>\n",
       "      <th>Administration</th>\n",
       "      <th>Marketing Spend</th>\n",
       "      <th>Profit</th>\n",
       "    </tr>\n",
       "  </thead>\n",
       "  <tbody>\n",
       "    <tr>\n",
       "      <th>count</th>\n",
       "      <td>50.000000</td>\n",
       "      <td>50.000000</td>\n",
       "      <td>50.000000</td>\n",
       "      <td>50.000000</td>\n",
       "    </tr>\n",
       "    <tr>\n",
       "      <th>mean</th>\n",
       "      <td>73721.615600</td>\n",
       "      <td>121344.639600</td>\n",
       "      <td>211025.097800</td>\n",
       "      <td>112012.639200</td>\n",
       "    </tr>\n",
       "    <tr>\n",
       "      <th>std</th>\n",
       "      <td>45902.256482</td>\n",
       "      <td>28017.802755</td>\n",
       "      <td>122290.310726</td>\n",
       "      <td>40306.180338</td>\n",
       "    </tr>\n",
       "    <tr>\n",
       "      <th>min</th>\n",
       "      <td>0.000000</td>\n",
       "      <td>51283.140000</td>\n",
       "      <td>0.000000</td>\n",
       "      <td>14681.400000</td>\n",
       "    </tr>\n",
       "    <tr>\n",
       "      <th>25%</th>\n",
       "      <td>39936.370000</td>\n",
       "      <td>103730.875000</td>\n",
       "      <td>129300.132500</td>\n",
       "      <td>90138.902500</td>\n",
       "    </tr>\n",
       "    <tr>\n",
       "      <th>50%</th>\n",
       "      <td>73051.080000</td>\n",
       "      <td>122699.795000</td>\n",
       "      <td>212716.240000</td>\n",
       "      <td>107978.190000</td>\n",
       "    </tr>\n",
       "    <tr>\n",
       "      <th>75%</th>\n",
       "      <td>101602.800000</td>\n",
       "      <td>144842.180000</td>\n",
       "      <td>299469.085000</td>\n",
       "      <td>139765.977500</td>\n",
       "    </tr>\n",
       "    <tr>\n",
       "      <th>max</th>\n",
       "      <td>165349.200000</td>\n",
       "      <td>182645.560000</td>\n",
       "      <td>471784.100000</td>\n",
       "      <td>192261.830000</td>\n",
       "    </tr>\n",
       "  </tbody>\n",
       "</table>\n",
       "</div>"
      ],
      "text/plain": [
       "           R&D Spend  Administration  Marketing Spend         Profit\n",
       "count      50.000000       50.000000        50.000000      50.000000\n",
       "mean    73721.615600   121344.639600    211025.097800  112012.639200\n",
       "std     45902.256482    28017.802755    122290.310726   40306.180338\n",
       "min         0.000000    51283.140000         0.000000   14681.400000\n",
       "25%     39936.370000   103730.875000    129300.132500   90138.902500\n",
       "50%     73051.080000   122699.795000    212716.240000  107978.190000\n",
       "75%    101602.800000   144842.180000    299469.085000  139765.977500\n",
       "max    165349.200000   182645.560000    471784.100000  192261.830000"
      ]
     },
     "execution_count": 3,
     "metadata": {},
     "output_type": "execute_result"
    }
   ],
   "source": [
    "# pulire dati \n",
    "'''\n",
    "# trovare i tipi di dato non congruenti e sistemare\n",
    "# eliminare valori NaN\n",
    "\n",
    "...\n",
    "..\n",
    ".\n",
    "\n",
    "'''\n",
    "\n",
    "name_target_col: str = 'Profit'\n",
    "df.describe()"
   ]
  },
  {
   "cell_type": "code",
   "execution_count": 7,
   "metadata": {},
   "outputs": [
    {
     "name": "stdout",
     "output_type": "stream",
     "text": [
      "Target:\n",
      "0     192261.83\n",
      "1     191792.06\n",
      "2     191050.39\n",
      "3     182901.99\n",
      "4     166187.94\n",
      "5     156991.12\n",
      "6     156122.51\n",
      "7     155752.60\n",
      "8     152211.77\n",
      "9     149759.96\n",
      "10    146121.95\n",
      "11    144259.40\n",
      "12    141585.52\n",
      "13    134307.35\n",
      "14    132602.65\n",
      "15    129917.04\n",
      "16    126992.93\n",
      "17    125370.37\n",
      "18    124266.90\n",
      "19    122776.86\n",
      "20    118474.03\n",
      "21    111313.02\n",
      "22    110352.25\n",
      "23    108733.99\n",
      "24    108552.04\n",
      "25    107404.34\n",
      "26    105733.54\n",
      "27    105008.31\n",
      "28    103282.38\n",
      "29    101004.64\n",
      "30     99937.59\n",
      "31     97483.56\n",
      "32     97427.84\n",
      "33     96778.92\n",
      "34     96712.80\n",
      "35     96479.51\n",
      "36     90708.19\n",
      "37     89949.14\n",
      "38     81229.06\n",
      "39     81005.76\n",
      "40     78239.91\n",
      "41     77798.83\n",
      "42     71498.49\n",
      "43     69758.98\n",
      "44     65200.33\n",
      "45     64926.08\n",
      "46     49490.75\n",
      "47     42559.73\n",
      "48     35673.41\n",
      "49     14681.40\n",
      "Name: Profit, dtype: float64; \n",
      "Feature: \n",
      "    R&D Spend  Administration  Marketing Spend\n",
      "0   165349.20       136897.80        471784.10\n",
      "1   162597.70       151377.59        443898.53\n",
      "2   153441.51       101145.55        407934.54\n",
      "3   144372.41       118671.85        383199.62\n",
      "4   142107.34        91391.77        366168.42\n",
      "5   131876.90        99814.71        362861.36\n",
      "6   134615.46       147198.87        127716.82\n",
      "7   130298.13       145530.06        323876.68\n",
      "8   120542.52       148718.95        311613.29\n",
      "9   123334.88       108679.17        304981.62\n",
      "10  101913.08       110594.11        229160.95\n",
      "11  100671.96        91790.61        249744.55\n",
      "12   93863.75       127320.38        249839.44\n",
      "13   91992.39       135495.07        252664.93\n",
      "14  119943.24       156547.42        256512.92\n",
      "15  114523.61       122616.84        261776.23\n",
      "16   78013.11       121597.55        264346.06\n",
      "17   94657.16       145077.58        282574.31\n",
      "18   91749.16       114175.79        294919.57\n",
      "19   86419.70       153514.11             0.00\n",
      "20   76253.86       113867.30        298664.47\n",
      "21   78389.47       153773.43        299737.29\n",
      "22   73994.56       122782.75        303319.26\n",
      "23   67532.53       105751.03        304768.73\n",
      "24   77044.01        99281.34        140574.81\n",
      "25   64664.71       139553.16        137962.62\n",
      "26   75328.87       144135.98        134050.07\n",
      "27   72107.60       127864.55        353183.81\n",
      "28   66051.52       182645.56        118148.20\n",
      "29   65605.48       153032.06        107138.38\n",
      "30   61994.48       115641.28         91131.24\n",
      "31   61136.38       152701.92         88218.23\n",
      "32   63408.86       129219.61         46085.25\n",
      "33   55493.95       103057.49        214634.81\n",
      "34   46426.07       157693.92        210797.67\n",
      "35   46014.02        85047.44        205517.64\n",
      "36   28663.76       127056.21        201126.82\n",
      "37   44069.95        51283.14        197029.42\n",
      "38   20229.59        65947.93        185265.10\n",
      "39   38558.51        82982.09        174999.30\n",
      "40   28754.33       118546.05        172795.67\n",
      "41   27892.92        84710.77        164470.71\n",
      "42   23640.93        96189.63        148001.11\n",
      "43   15505.73       127382.30         35534.17\n",
      "44   22177.74       154806.14         28334.72\n",
      "45    1000.23       124153.04          1903.93\n",
      "46    1315.46       115816.21        297114.46\n",
      "47       0.00       135426.92             0.00\n",
      "48     542.05        51743.15             0.00\n",
      "49       0.00       116983.80         45173.06; \n",
      "Righe: 50\n"
     ]
    }
   ],
   "source": [
    "# Feature\n",
    "X = df.drop(columns=[name_target_col])\n",
    "\n",
    "# Target \n",
    "y = df[name_target_col]\n",
    "\n",
    "num_entries = y.size\n",
    "print(f'Target:\\n{y}; \\nFeature: \\n{X}; \\nRighe: {num_entries}')\n"
   ]
  },
  {
   "cell_type": "code",
   "execution_count": 8,
   "metadata": {},
   "outputs": [],
   "source": [
    "# Suddivido il modello per poterlo poi testare\n",
    "X_train, X_test, y_train, y_test = train_test_split(X, y, test_size=0.20, random_state=42)"
   ]
  },
  {
   "cell_type": "code",
   "execution_count": 9,
   "metadata": {},
   "outputs": [
    {
     "data": {
      "text/html": [
       "<style>#sk-container-id-2 {color: black;background-color: white;}#sk-container-id-2 pre{padding: 0;}#sk-container-id-2 div.sk-toggleable {background-color: white;}#sk-container-id-2 label.sk-toggleable__label {cursor: pointer;display: block;width: 100%;margin-bottom: 0;padding: 0.3em;box-sizing: border-box;text-align: center;}#sk-container-id-2 label.sk-toggleable__label-arrow:before {content: \"▸\";float: left;margin-right: 0.25em;color: #696969;}#sk-container-id-2 label.sk-toggleable__label-arrow:hover:before {color: black;}#sk-container-id-2 div.sk-estimator:hover label.sk-toggleable__label-arrow:before {color: black;}#sk-container-id-2 div.sk-toggleable__content {max-height: 0;max-width: 0;overflow: hidden;text-align: left;background-color: #f0f8ff;}#sk-container-id-2 div.sk-toggleable__content pre {margin: 0.2em;color: black;border-radius: 0.25em;background-color: #f0f8ff;}#sk-container-id-2 input.sk-toggleable__control:checked~div.sk-toggleable__content {max-height: 200px;max-width: 100%;overflow: auto;}#sk-container-id-2 input.sk-toggleable__control:checked~label.sk-toggleable__label-arrow:before {content: \"▾\";}#sk-container-id-2 div.sk-estimator input.sk-toggleable__control:checked~label.sk-toggleable__label {background-color: #d4ebff;}#sk-container-id-2 div.sk-label input.sk-toggleable__control:checked~label.sk-toggleable__label {background-color: #d4ebff;}#sk-container-id-2 input.sk-hidden--visually {border: 0;clip: rect(1px 1px 1px 1px);clip: rect(1px, 1px, 1px, 1px);height: 1px;margin: -1px;overflow: hidden;padding: 0;position: absolute;width: 1px;}#sk-container-id-2 div.sk-estimator {font-family: monospace;background-color: #f0f8ff;border: 1px dotted black;border-radius: 0.25em;box-sizing: border-box;margin-bottom: 0.5em;}#sk-container-id-2 div.sk-estimator:hover {background-color: #d4ebff;}#sk-container-id-2 div.sk-parallel-item::after {content: \"\";width: 100%;border-bottom: 1px solid gray;flex-grow: 1;}#sk-container-id-2 div.sk-label:hover label.sk-toggleable__label {background-color: #d4ebff;}#sk-container-id-2 div.sk-serial::before {content: \"\";position: absolute;border-left: 1px solid gray;box-sizing: border-box;top: 0;bottom: 0;left: 50%;z-index: 0;}#sk-container-id-2 div.sk-serial {display: flex;flex-direction: column;align-items: center;background-color: white;padding-right: 0.2em;padding-left: 0.2em;position: relative;}#sk-container-id-2 div.sk-item {position: relative;z-index: 1;}#sk-container-id-2 div.sk-parallel {display: flex;align-items: stretch;justify-content: center;background-color: white;position: relative;}#sk-container-id-2 div.sk-item::before, #sk-container-id-2 div.sk-parallel-item::before {content: \"\";position: absolute;border-left: 1px solid gray;box-sizing: border-box;top: 0;bottom: 0;left: 50%;z-index: -1;}#sk-container-id-2 div.sk-parallel-item {display: flex;flex-direction: column;z-index: 1;position: relative;background-color: white;}#sk-container-id-2 div.sk-parallel-item:first-child::after {align-self: flex-end;width: 50%;}#sk-container-id-2 div.sk-parallel-item:last-child::after {align-self: flex-start;width: 50%;}#sk-container-id-2 div.sk-parallel-item:only-child::after {width: 0;}#sk-container-id-2 div.sk-dashed-wrapped {border: 1px dashed gray;margin: 0 0.4em 0.5em 0.4em;box-sizing: border-box;padding-bottom: 0.4em;background-color: white;}#sk-container-id-2 div.sk-label label {font-family: monospace;font-weight: bold;display: inline-block;line-height: 1.2em;}#sk-container-id-2 div.sk-label-container {text-align: center;}#sk-container-id-2 div.sk-container {/* jupyter's `normalize.less` sets `[hidden] { display: none; }` but bootstrap.min.css set `[hidden] { display: none !important; }` so we also need the `!important` here to be able to override the default hidden behavior on the sphinx rendered scikit-learn.org. See: https://github.com/scikit-learn/scikit-learn/issues/21755 */display: inline-block !important;position: relative;}#sk-container-id-2 div.sk-text-repr-fallback {display: none;}</style><div id=\"sk-container-id-2\" class=\"sk-top-container\"><div class=\"sk-text-repr-fallback\"><pre>LinearRegression()</pre><b>In a Jupyter environment, please rerun this cell to show the HTML representation or trust the notebook. <br />On GitHub, the HTML representation is unable to render, please try loading this page with nbviewer.org.</b></div><div class=\"sk-container\" hidden><div class=\"sk-item\"><div class=\"sk-estimator sk-toggleable\"><input class=\"sk-toggleable__control sk-hidden--visually\" id=\"sk-estimator-id-2\" type=\"checkbox\" checked><label for=\"sk-estimator-id-2\" class=\"sk-toggleable__label sk-toggleable__label-arrow\">LinearRegression</label><div class=\"sk-toggleable__content\"><pre>LinearRegression()</pre></div></div></div></div></div>"
      ],
      "text/plain": [
       "LinearRegression()"
      ]
     },
     "execution_count": 9,
     "metadata": {},
     "output_type": "execute_result"
    }
   ],
   "source": [
    "model = LinearRegression()\n",
    "model.fit(X_train, y_train)"
   ]
  },
  {
   "cell_type": "code",
   "execution_count": 10,
   "metadata": {},
   "outputs": [],
   "source": [
    "# Creo il file pickle e lo importo per controllare che funzioni correttamente\n",
    "joblib.dump(model, 'profit.pkl')\n",
    "\n",
    "modello = joblib.load('profit.pkl')"
   ]
  },
  {
   "cell_type": "code",
   "execution_count": 11,
   "metadata": {},
   "outputs": [
    {
     "data": {
      "text/plain": [
       "[<matplotlib.lines.Line2D at 0x7f2b19bec040>]"
      ]
     },
     "execution_count": 11,
     "metadata": {},
     "output_type": "execute_result"
    },
    {
     "data": {
      "image/png": "[encoded data removed]",
      "text/plain": [
       "<Figure size 640x480 with 1 Axes>"
      ]
     },
     "metadata": {},
     "output_type": "display_data"
    }
   ],
   "source": [
    "# Test modello \n",
    "\n",
    "pred = modello.predict(X_test)\n",
    "\n",
    "# Verifica visuale con grafico\n",
    "x = np.linspace(0, pred.size, pred.size)\n",
    "plt.plot(x, pred)\n",
    "plt.plot(x, y_test)\n"
   ]
  },
  {
   "cell_type": "code",
   "execution_count": 12,
   "metadata": {},
   "outputs": [
    {
     "name": "stdout",
     "output_type": "stream",
     "text": [
      "il modello ha una accuratezza del 90%\n"
     ]
    }
   ],
   "source": [
    "# Verifica con indicatori statistici \n",
    "trust = round(r2_score(y_test, pred) * 100)\n",
    "if trust < 20:\n",
    "    print('modello con bassa accuratezza, piuttosto butta na moneta')\n",
    "else:\n",
    "    print(f'il modello ha una accuratezza del {trust}%')"
   ]
  },
  {
   "cell_type": "code",
   "execution_count": null,
   "metadata": {},
   "outputs": [],
   "source": []
  }
 ],
 "metadata": {
  "kernelspec": {
   "display_name": "Python 3",
   "language": "python",
   "name": "python3"
  },
  "language_info": {
   "codemirror_mode": {
    "name": "ipython",
    "version": 3
   },
   "file_extension": ".py",
   "mimetype": "text/x-python",
   "name": "python",
   "nbconvert_exporter": "python",
   "pygments_lexer": "ipython3",
   "version": "3.10.6"
  },
  "orig_nbformat": 4
 },
 "nbformat": 4,
 "nbformat_minor": 2
}
